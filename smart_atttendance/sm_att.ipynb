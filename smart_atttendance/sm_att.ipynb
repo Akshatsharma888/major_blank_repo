{
 "cells": [
  {
   "cell_type": "code",
   "execution_count": null,
   "metadata": {},
   "outputs": [],
   "source": [
    "import cv2\n",
    "import face_recognition\n",
    "import pandas as pd\n",
    "\n",
    "# Load known faces\n",
    "known_faces = []\n",
    "known_names = []\n",
    "for name in [\"person1\", \"person2\"]:  # Add names of people here\n",
    "    image = face_recognition.load_image_file(f\"{name}.jpg\")\n",
    "    encoding = face_recognition.face_encodings(image)[0]\n",
    "    known_faces.append(encoding)\n",
    "    known_names.append(name)\n",
    "\n",
    "# Initialize video capture\n",
    "video_capture = cv2.VideoCapture(0)\n",
    "\n",
    "while True:\n",
    "    ret, frame = video_capture.read()\n",
    "    rgb_frame = frame[:, :, ::-1]\n",
    "\n",
    "    # Find faces in the video\n",
    "    face_locations = face_recognition.face_locations(rgb_frame)\n",
    "    face_encodings = face_recognition.face_encodings(rgb_frame, face_locations)\n",
    "\n",
    "    for (top, right, bottom, left), face_encoding in zip(face_locations, face_encodings):\n",
    "        matches = face_recognition.compare_faces(known_faces, face_encoding)\n",
    "\n",
    "        if True in matches:\n",
    "            first_match_index = matches.index(True)\n",
    "            name = known_names[first_match_index]\n",
    "\n",
    "            # Record attendance\n",
    "            df = pd.read_csv('attendance.csv')\n",
    "            if name not in df['Name'].values:\n",
    "                df = df.append({'Name': name}, ignore_index=True)\n",
    "                df.to_csv('attendance.csv', index=False)\n",
    "\n",
    "    # Display the resulting image\n",
    "    cv2.imshow('Video', frame)\n",
    "\n",
    "    # Break the loop on 'q' key press\n",
    "    if cv2.waitKey(1) & 0xFF == ord('q'):\n",
    "        break\n",
    "\n",
    "video_capture.release()\n",
    "cv2.destroyAllWindows()"
   ]
  }
 ],
 "metadata": {
  "kernelspec": {
   "display_name": "Python 3",
   "language": "python",
   "name": "python3"
  },
  "language_info": {
   "codemirror_mode": {
    "name": "ipython",
    "version": 3
   },
   "file_extension": ".py",
   "mimetype": "text/x-python",
   "name": "python",
   "nbconvert_exporter": "python",
   "pygments_lexer": "ipython3",
   "version": "3.10.13"
  }
 },
 "nbformat": 4,
 "nbformat_minor": 2
}
